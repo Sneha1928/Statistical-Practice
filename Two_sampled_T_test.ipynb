{
  "nbformat": 4,
  "nbformat_minor": 0,
  "metadata": {
    "colab": {
      "name": "Two sampled T-test.ipynb",
      "provenance": [],
      "collapsed_sections": [],
      "authorship_tag": "ABX9TyMqpNStRlvsAcJZqwFKvvTN",
      "include_colab_link": true
    },
    "kernelspec": {
      "name": "python3",
      "display_name": "Python 3"
    },
    "language_info": {
      "name": "python"
    }
  },
  "cells": [
    {
      "cell_type": "markdown",
      "metadata": {
        "id": "view-in-github",
        "colab_type": "text"
      },
      "source": [
        "<a href=\"https://colab.research.google.com/github/Sneha1928/Statistical-Practice/blob/main/Two_sampled_T_test.ipynb\" target=\"_parent\"><img src=\"https://colab.research.google.com/assets/colab-badge.svg\" alt=\"Open In Colab\"/></a>"
      ]
    },
    {
      "cell_type": "markdown",
      "metadata": {
        "id": "1rkHu7H-hNnE"
      },
      "source": [
        "# Two Sampled T-Test\n",
        "The two-sample t-test (also known as the independent samples t-test) is a method used to test whether the unknown population means of two groups are equal or not.\n",
        "\n",
        "![twotest.png](data:image/png;base64,iVBORw0KGgoAAAANSUhEUgAAAPoAAACGCAMAAADD0me1AAAAV1BMVEX///9+fn6KiooAAADv7++/v78xMTHX19e3t7dRUVE/Pz/f39/Pz88uLi6fn5+vr69ubm5eXl4PDw8eHh5CQkKQkJCFhYXb29vExMRMTEz19fU4ODiXl5etNOaYAAAJi0lEQVR4nO1di3asqBKFQ5G5AvLQw8w4d/7/O0fw0YKiRltDJ71XVk6nDyobqKKoKhChNw7gj98OdrUM92X+vKlG9wEEQgI2ytDtMq8HqXVh8Md6GaNLbeubanQXKEZAlK7aj5DqVo4RIhJXrvf5nZW7FhSQIgg44rqmw5d4gPR/tkOdEvBlaCm/rKoXQLPuXzZSF7TH2Me49L8LpL7PsBcKle14dn35oB6BS8Q0Qgpximh1Z+0uBasFocgqtEK9qTjBSPmhXnyfAS8bQxvj+SSpK2Yo09h9tDkyT9V7P5LUH2h7Hp9+zrMhyMlpB+iHFRtlaM1Yce4xF+C0wQGtQt+izneUuRucMka/naG5CxITg7sRP87J2fXPRXiIuoxMsW+PNVH//XEjzH2cezQrj/zrjxtx//Kmksh2au7HDXhCRX62xj3Qej9z+N91+PtCjk+A+l1cBv3V5Nahf6bt43D//JML4OdSpz9k0lsATlsd5qjZD+Yl9EeT/B99fDwI9grck9RVulG2YfNzYcxAU+E1qE/Z3/V5D9nVSHqh8LTTYZfUTwVE5u+gT47qSj0+Y7bDLqaapK7PExPqMLX8VRBbwLuWBAF1c0ZV3IHpAq8QiI2SH9b8AHVJUsUygZ1oI63akT38UQdkD1DnJHNFF1mxbNBUEFZ8gfpCY4T9TDL3GIQCKceWoJvUF9ajIXWW94qV99VTjTNahRzjVaGkSvYx487iLygmgVHMZiWyguxmINkgxZDQlA4M8aaS2iSm86beuymYhrYRNGOjrI/U+V9TTC6dEoOg0D/9LcqLK38M0NsbvahrQqL1xkidlRP8v/vOtm3EKverv/7PaaHy7+gWeaH30/duCg5Kk3CZ9oQBj7Mc8JR0g7HLjEBVq+xYaHc+gXqTI3UwPbNeI9cUbGR22vPU89TwXHXTds8XLI7XGpN5HfzPDCGxhRJlniYNdKbWygqDDI2hdIHxgnUSrPNBV1hGvUwydfrVjnXSTYEmfSZlgWiBuFxbslNeAaoQSD2WEiTTgH7j1qR4pXIPg8S0M75FgFdXI23jiLJVm3x0TGWbQ2td7sHailqQQXxrQDWXaJ06tu2PRCDGVUCTqwlPnSyvOhNGw4650Q8b1BlHuF30whjFgrMpXNeBaLQeh6bRgF2nPhYa1AfO10lTssBNsQAWaGgu1bZrXeBhljzpz70UmmzFGXl9Ioyg17eQfCkkEVtxxhMxCJVzDFMQvamC1VF/MuRpyA2o6uwd5VeBkVeICF6CTJ0od0Dlam1dD8h34n3jjTfeeOONN44CBOL3zvHiGTsQnwFdGFnc6T2V2FibhS2pGEWGInrbElu1vNsFvcjAlK7aH9gRSXoairatJSr4l2/HoS7EoPiN1F1bc3ki/fhZsApx50q7jboLUxQWhjhvBrg7MCokzcRPJGbR1osh8Uoq/hvXgc1xrf9czx/4RW5rQ8iv8Q9KpanIE+KjYHXymAtCHiqFU4VL8pR80nluxBagJlU4wdjqvNrVHKoUH02i/FFaPqHbMYdPu9YFIWXokxZdyAUO9UX3+Moik4xBtN0cNjaUnbI71uRdILCw7nigT8ISErW6dTU5uGVpNIbT5zOJVqbCe3PfYObYuB+jZ+nGToIRsjBUmoMC2JumayE3SchCBx0O0tmOMj1glUBFqtn0uvtGfrvyZABzryWFDjKqolVKQ8h8Gtkdk443SIMfQ+0TD9gIlJBZHMbsFLx/fjlMR43LPBTFI83YfxdeNNetbvW474FtL7snTqtn2naE6Il7gWOl2yoqXzWwFui6xSWxgGBecWlmNQmFKKY1162o33Qzu90cFFMIjn+SrV4uyJzDLszmVu5TJcFwW+vVTFeteGXoNGtmSVRmX7W6NRKCLoMDS4huN4Mr0oh6MmpOnX3GW3EPeoF66pq7U/ca7Lp/+UJhXWqhdPJCaboi89aY6Va/IdDl9rjbeeFd1rNu60JlVSvfAveHcdBTCdgq6oXxbn3yHB+oy9mRH7QLVethI1xUEX9B7S+Zfg2x1TgMOzpEvocDhB6njAxFuyN3OEa2PwDzXO45Kxd6He1Jcx1C1XiZenf3+VcqsmuGU852RL67VEQ3ujrJEKeoi8jIAH+3dk3ZdgZ3hlJC89AClbrbNTVSX6j7nDrEJo+XdVH4rULGSVKsB4eaMmiafp+W6GTr1IAPtIaH/6KyuKLQQGtuJOY6zUSlkV+rDNSX0uXm1JtYeXgNj5moNXIaXqJE9hYuaVvEH4KI+g6Js5I/AyhnKsVzVY0Sxmc/plZzwmDQnQU6UGcLrTSrm5mZbn5eh8fteGLgQ1uhX43nrEV32qs5scxesLdp0Hdyh4XTU4dqobdin3O87cAh6mW56aeWot9kOLdFdyO2+4W7FZuKQHLAP4A/+pl5RxfISI79FiQV1sJsLUFbs4h4WZfH89R0NPjAD8+DK7fNLEQ016moM9+mjmmREvU5+PGTIWIlAb3ngB9yke9wF8x0Ku41yWRkEbu7K3ck7qaujCZ0XV28dwHK4P7C1rFNi3qZuxii+pg4CKtWfp7hm1sBlNXkgW6dEztt7kIxd5BeGxGx2Xhk3/ihgKlWPuaH/ewTpzJ1h0ZLYRru3HUGy2lwPfmYzck9+07jeCZ2nMl9FWzJ0ePI/zuoy0JB/0R0KfUNUeLibuqUWzxQhwupS6w3bFwRGLK3DPhiyvYy6qVCG5pLSzW84IPeRL1CvH8iv7LXxVYsqrCTyW3pDJanIxhnuL7uZRK57TIE2L8qO4lb0yB3oNDFTRutLN+zhr4R/K55XH9cnRyTIaDBptPdecn6DWgUakLH5yN56euzci9FXcrNd81Z/M3QybZcSpaI8O+vbwZvIlj3zq1Qmf6QNyMAkX2Syc+D0XgzgPFt8VpdznVhX6vGKXx2l7RouCgTIfUXw2czuZxXgS5k070gPkvduImY5HuIzxyyKIXRC8viCXUwtcK63LYgxUv1uuEut7jzA4Vhywd1K0wl+oSXVQ1gXmky5lS66L47Uu/hwfcuR2vGt7pKn2lkK9ceetBkML5kbmwNVWbmWdiAO068y27EKerd6dPuBNNCtebGpFBA/TVeHjFBbX1aoYodmlM1p4ijrwRXYpbCMcIxh1daUXIXG6+tO2gtTd1lXLaC4TJUIDWoodYYH0jm/zr4hFjmD9FPU3duIlH6NZNOiXPhcwxeyvL28unFNU3dl/Epbi3z77hoNEHK1aIhK2t2SyT3Zli6djBrB+cwuHwC+w/842UBwZL/IAAAAABJRU5ErkJggg==)"
      ]
    },
    {
      "cell_type": "code",
      "metadata": {
        "id": "a3fES6eAiNfh"
      },
      "source": [
        "# importing libraries\n",
        "import numpy as np\n",
        "import scipy as stats"
      ],
      "execution_count": null,
      "outputs": []
    },
    {
      "cell_type": "code",
      "metadata": {
        "id": "hRgZCLm5hZAz"
      },
      "source": [
        "np.random.seed(1)\n",
        "classA_height = stats.stats.poisson.rvs(loc = 18,mu = 35,size = 60) # Creating a sample height of class A with mean = 35\n",
        "classB_ages = stats.stats.poisson.rvs(loc = 18,mu = 33,size = 60) # Creating a sample age of class B with mean = 33"
      ],
      "execution_count": null,
      "outputs": []
    },
    {
      "cell_type": "code",
      "metadata": {
        "id": "N-0_1sBFiWkd"
      },
      "source": [
        "ttest, p_val = stats.stats.ttest_ind(a = classA_height, b = classB_ages, equal_var=False) # Applying two sampled t-test"
      ],
      "execution_count": null,
      "outputs": []
    },
    {
      "cell_type": "code",
      "metadata": {
        "colab": {
          "base_uri": "https://localhost:8080/"
        },
        "id": "o-ORhNMujR55",
        "outputId": "9d53ab5f-f595-4dc1-a15e-ef28aef9f29b"
      },
      "source": [
        "if p_val<0.05: # aplha value is 0.05\n",
        "  print(\"We are rejecting Null Hypothesis\")\n",
        "else:\n",
        "  print(\"We are accepting Null Hypothesis\")"
      ],
      "execution_count": null,
      "outputs": [
        {
          "output_type": "stream",
          "text": [
            "We are accepting Null Hypothesis\n"
          ],
          "name": "stdout"
        }
      ]
    },
    {
      "cell_type": "markdown",
      "metadata": {
        "id": "UYZiiuRaj11c"
      },
      "source": [
        "Unknown population means of the above two groups are equal."
      ]
    },
    {
      "cell_type": "code",
      "metadata": {
        "id": "0Zpk9y8TjaD8"
      },
      "source": [
        ""
      ],
      "execution_count": null,
      "outputs": []
    }
  ]
}