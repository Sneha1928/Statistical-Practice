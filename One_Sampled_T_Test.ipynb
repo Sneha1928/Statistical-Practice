{
  "nbformat": 4,
  "nbformat_minor": 0,
  "metadata": {
    "colab": {
      "name": "One Sampled T-Test",
      "provenance": [],
      "collapsed_sections": [],
      "authorship_tag": "ABX9TyPREIGmEDsLxmUI8mmt3KuN",
      "include_colab_link": true
    },
    "kernelspec": {
      "name": "python3",
      "display_name": "Python 3"
    },
    "language_info": {
      "name": "python"
    }
  },
  "cells": [
    {
      "cell_type": "markdown",
      "metadata": {
        "id": "view-in-github",
        "colab_type": "text"
      },
      "source": [
        "<a href=\"https://colab.research.google.com/github/Sneha1928/Statistical-Practice/blob/main/One_Sampled_T_Test.ipynb\" target=\"_parent\"><img src=\"https://colab.research.google.com/assets/colab-badge.svg\" alt=\"Open In Colab\"/></a>"
      ]
    },
    {
      "cell_type": "markdown",
      "metadata": {
        "id": "OZA3ZPhiVr6v"
      },
      "source": [
        "# ***T Test***\n",
        "\n",
        "A T-test is a type of inferential statistic which is used to determine if there is significant difference between means of two groups which may be related in certain features.\n",
        "\n",
        "There are two types of T-Test:\n",
        "\n",
        "1.   One sampled T-Test\n",
        "2.   Two sampled T-Test\n",
        "\n",
        "\n",
        "\n",
        "\n"
      ]
    },
    {
      "cell_type": "markdown",
      "metadata": {
        "id": "_Rih_u4rWXe_"
      },
      "source": [
        "#One Sampled T-Test implementation\n",
        "\n",
        "The test will tell us whether the means of sample and the population are different or not.\n",
        "\n",
        "![student-t-test-8-638.jpg](data:image/jpeg;base64,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)"
      ]
    },
    {
      "cell_type": "code",
      "metadata": {
        "id": "jd3rcZUGVUSp"
      },
      "source": [
        "ages = [10,20,35,50,28,40,55,30,25,43,18,30,18,14,24,16,17,32,35,26,27,65,18,43,23,21,20,19,70] # Population of ages"
      ],
      "execution_count": null,
      "outputs": []
    },
    {
      "cell_type": "code",
      "metadata": {
        "colab": {
          "base_uri": "https://localhost:8080/"
        },
        "id": "RbYxyd--Yd9f",
        "outputId": "35e84b1f-b32d-4eec-e17d-75d6329a84a8"
      },
      "source": [
        "import numpy as np\n",
        "mean_ages = np.mean(ages) # calculating mean of population, that is, mu.\n",
        "mean_ages"
      ],
      "execution_count": null,
      "outputs": [
        {
          "output_type": "execute_result",
          "data": {
            "text/plain": [
              "30.06896551724138"
            ]
          },
          "metadata": {
            "tags": []
          },
          "execution_count": 3
        }
      ]
    },
    {
      "cell_type": "code",
      "metadata": {
        "colab": {
          "base_uri": "https://localhost:8080/"
        },
        "id": "j_u5DvxZY2P_",
        "outputId": "9f88ca56-fbc3-4568-c599-91e326f58472"
      },
      "source": [
        "# Now taking up the sample\n",
        "\n",
        "sample_size = 10 # Considering the size of the sample to be 10, that is, n=10\n",
        "sample_age = np.random.choice(ages,sample_size) # Randomly choosing 10 values from the population\n",
        "sample_age"
      ],
      "execution_count": null,
      "outputs": [
        {
          "output_type": "execute_result",
          "data": {
            "text/plain": [
              "array([40, 26, 40, 24, 40, 20, 18, 16, 32, 35])"
            ]
          },
          "metadata": {
            "tags": []
          },
          "execution_count": 6
        }
      ]
    },
    {
      "cell_type": "code",
      "metadata": {
        "colab": {
          "base_uri": "https://localhost:8080/"
        },
        "id": "ysa-HzUCZNIQ",
        "outputId": "a402114e-0446-4b5c-c749-788b4f8b7831"
      },
      "source": [
        "#Importing one sampled t test function from scipy\n",
        "from scipy.stats import ttest_1samp\n",
        "ttest, p_value = ttest_1samp(sample_age,30)\n",
        "print(p_value) # printing p_value"
      ],
      "execution_count": null,
      "outputs": [
        {
          "output_type": "stream",
          "text": [
            "0.7713862272242094\n"
          ],
          "name": "stdout"
        }
      ]
    },
    {
      "cell_type": "code",
      "metadata": {
        "colab": {
          "base_uri": "https://localhost:8080/"
        },
        "id": "LnkLl45YaOtJ",
        "outputId": "3c739cef-f2fa-463d-9f7e-7faeadac8f25"
      },
      "source": [
        "if p_value<0.05: # aplha value is 0.05\n",
        "  print(\"We are rejecting Null Hypothesis\")\n",
        "else:\n",
        "  print(\"We are accepting Null Hypothesis\")"
      ],
      "execution_count": null,
      "outputs": [
        {
          "output_type": "stream",
          "text": [
            "We are accepting Null Hypothesis\n"
          ],
          "name": "stdout"
        }
      ]
    },
    {
      "cell_type": "markdown",
      "metadata": {
        "id": "dPztULx5a3uY"
      },
      "source": [
        "So, by one sampled t test we conclude that there is no difference in the mean of sample and population."
      ]
    },
    {
      "cell_type": "markdown",
      "metadata": {
        "id": "l1_VYdghhB7R"
      },
      "source": [
        "#Other example"
      ]
    },
    {
      "cell_type": "markdown",
      "metadata": {
        "id": "5cj3LY4VcbSb"
      },
      "source": [
        "Consider height of students in college and in class A\n",
        "\n"
      ]
    },
    {
      "cell_type": "code",
      "metadata": {
        "id": "Mt8S00EnbG8k"
      },
      "source": [
        "#importing required libraries\n",
        "import numpy as np\n",
        "import pandas as pd\n",
        "from scipy.stats import ttest_1samp\n",
        "from scipy import stats\n",
        "import math"
      ],
      "execution_count": null,
      "outputs": []
    },
    {
      "cell_type": "code",
      "metadata": {
        "id": "1SF9jQBOc_N1"
      },
      "source": [
        "np.random.seed(1)\n",
        "school_height = stats.poisson.rvs(loc = 18, mu = 35, size = 1500) # population\n",
        "classA_height = stats.poisson.rvs(loc = 18, mu = 30, size = 60) # sample"
      ],
      "execution_count": null,
      "outputs": []
    },
    {
      "cell_type": "code",
      "metadata": {
        "colab": {
          "base_uri": "https://localhost:8080/"
        },
        "id": "iSfToKeNd0tH",
        "outputId": "edad6221-75e5-4e4f-d739-4f68b569b9cf"
      },
      "source": [
        "ttest,p_value = ttest_1samp(classA_height,school_height.mean())\n",
        "print(p_value)"
      ],
      "execution_count": null,
      "outputs": [
        {
          "output_type": "stream",
          "text": [
            "6.131439022821903e-09\n"
          ],
          "name": "stdout"
        }
      ]
    },
    {
      "cell_type": "code",
      "metadata": {
        "colab": {
          "base_uri": "https://localhost:8080/"
        },
        "id": "JsvWZ4fwfeiO",
        "outputId": "4d7459f0-7f1d-4126-bd69-9b37bc7326c4"
      },
      "source": [
        "if p_value<0.05: # aplha value is 0.05\n",
        "  print(\"We are rejecting Null Hypothesis\")\n",
        "else:\n",
        "  print(\"We are accepting Null Hypothesis\")"
      ],
      "execution_count": null,
      "outputs": [
        {
          "output_type": "stream",
          "text": [
            "We are rejecting Null Hypothesis\n"
          ],
          "name": "stdout"
        }
      ]
    },
    {
      "cell_type": "markdown",
      "metadata": {
        "id": "4txazPu1f4YE"
      },
      "source": [
        "So, by one sampled t test we conclude that there is difference in the mean of sample and population."
      ]
    },
    {
      "cell_type": "code",
      "metadata": {
        "id": "M4dx7ay4ffwd"
      },
      "source": [
        ""
      ],
      "execution_count": null,
      "outputs": []
    }
  ]
}